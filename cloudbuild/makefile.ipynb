{
 "cells": [
  {
   "attachments": {},
   "cell_type": "markdown",
   "metadata": {},
   "source": [
    "# Cloudbuild and Dockerfile Example\n",
    "\n",
    "* An example of using cloud build and a dockerfile\n",
    "* One of the things this illustrates is passing through the commit id into an environment variable in the image"
   ]
  },
  {
   "cell_type": "code",
   "execution_count": null,
   "metadata": {},
   "outputs": [],
   "source": [
    "import git"
   ]
  },
  {
   "cell_type": "code",
   "execution_count": null,
   "metadata": {},
   "outputs": [],
   "source": [
    "repo = git.Repo(\"..\")\n",
    "latest_commit = repo.commit(\"origin/main\").hexsha\n",
    "print(\"Latest commit in hydrated repo is: \", latest_commit)"
   ]
  },
  {
   "cell_type": "code",
   "execution_count": 4,
   "metadata": {},
   "outputs": [
    {
     "name": "stderr",
     "output_type": "stream",
     "text": [
      "Creating temporary tarball archive of 3 file(s) totalling 4.1 KiB before compression.\n",
      "Uploading tarball of [.] to [gs://chat-lewi_cloudbuild/source/1688564581.583945-0ea376f5dbeb46d985c647c47f833c06.tgz]\n"
     ]
    },
    {
     "name": "stdout",
     "output_type": "stream",
     "text": [
      "ID                                    CREATE_TIME                DURATION  SOURCE                                                                                   IMAGES  STATUS\n",
      "f468389b-598b-4b20-aaa0-c71310abeb25  2023-07-05T13:43:02+00:00  -         gs://chat-lewi_cloudbuild/source/1688564581.583945-0ea376f5dbeb46d985c647c47f833c06.tgz  -       QUEUED\n"
     ]
    },
    {
     "name": "stderr",
     "output_type": "stream",
     "text": [
      "Created [https://cloudbuild.googleapis.com/v1/projects/chat-lewi/locations/global/builds/f468389b-598b-4b20-aaa0-c71310abeb25].\n",
      "Logs are available at [ https://console.cloud.google.com/cloud-build/builds/f468389b-598b-4b20-aaa0-c71310abeb25?project=197678265256 ].\n"
     ]
    }
   ],
   "source": [
    "import subprocess\n",
    "def build_image():\n",
    "    subprocess.check_call([\n",
    "        \"gcloud\", \"builds\", \"submit\", \"--project\", \"chat-lewi\", \"--async\", \"--config\", \"cloudbuild.yaml\",\n",
    "        \"--substitutions=COMMIT_SHA=local-\" + latest_commit,\n",
    "        \"--format=yaml\"\n",
    "    ])\n",
    "\n",
    "build_image()            "
   ]
  }
 ],
 "metadata": {
  "kernelspec": {
   "display_name": ".venv",
   "language": "python",
   "name": "python3"
  },
  "language_info": {
   "codemirror_mode": {
    "name": "ipython",
    "version": 3
   },
   "file_extension": ".py",
   "mimetype": "text/x-python",
   "name": "python",
   "nbconvert_exporter": "python",
   "pygments_lexer": "ipython3",
   "version": "3.11.2"
  },
  "orig_nbformat": 4
 },
 "nbformat": 4,
 "nbformat_minor": 2
}
