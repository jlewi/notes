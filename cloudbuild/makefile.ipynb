{
 "cells": [
  {
   "attachments": {},
   "cell_type": "markdown",
   "metadata": {},
   "source": [
    "# Cloudbuild and Dockerfile Example\n",
    "\n",
    "* An example of using cloud build and a dockerfile\n",
    "* One of the things this illustrates is passing through the commit id into an environment variable in the image"
   ]
  },
  {
   "cell_type": "code",
   "execution_count": 26,
   "metadata": {},
   "outputs": [],
   "source": [
    "import git"
   ]
  },
  {
   "cell_type": "code",
   "execution_count": 27,
   "metadata": {},
   "outputs": [
    {
     "name": "stdout",
     "output_type": "stream",
     "text": [
      "Latest commit in hydrated repo is:  86cb448a5faba352291d77dd1e770a3ce03a6937\n"
     ]
    }
   ],
   "source": [
    "repo = git.Repo(\"..\")\n",
    "latest_commit = repo.commit(\"origin/main\").hexsha\n",
    "print(\"Latest commit in hydrated repo is: \", latest_commit)"
   ]
  },
  {
   "cell_type": "code",
   "execution_count": 28,
   "metadata": {},
   "outputs": [
    {
     "name": "stderr",
     "output_type": "stream",
     "text": [
      "Creating temporary tarball archive of 3 file(s) totalling 5.3 KiB before compression.\n",
      "Uploading tarball of [.] to [gs://chat-lewi_cloudbuild/source/1688568359.217966-2cf3b986df0349fba522b0a748a9c81e.tgz]\n"
     ]
    },
    {
     "name": "stdout",
     "output_type": "stream",
     "text": [
      "createTime: '2023-07-05T14:46:00.812622789Z'\n",
      "id: cb41ff2b-9103-41d2-b273-99f93e23dafe\n",
      "logUrl: https://console.cloud.google.com/cloud-build/builds/cb41ff2b-9103-41d2-b273-99f93e23dafe?project=197678265256\n",
      "logsBucket: gs://197678265256.cloudbuild-logs.googleusercontent.com\n",
      "name: projects/197678265256/locations/global/builds/cb41ff2b-9103-41d2-b273-99f93e23dafe\n",
      "options:\n",
      "  logging: GCS_ONLY\n",
      "  pool: {}\n",
      "projectId: chat-lewi\n",
      "queueTtl: 3600s\n",
      "source:\n",
      "  storageSource:\n",
      "    bucket: chat-lewi_cloudbuild\n",
      "    generation: '1688568360180330'\n",
      "    object: source/1688568359.217966-2cf3b986df0349fba522b0a748a9c81e.tgz\n",
      "sourceProvenance:\n",
      "  resolvedStorageSource:\n",
      "    bucket: chat-lewi_cloudbuild\n",
      "    generation: '1688568360180330'\n",
      "    object: source/1688568359.217966-2cf3b986df0349fba522b0a748a9c81e.tgz\n",
      "status: QUEUED\n",
      "steps:\n",
      "- args:\n",
      "  - --destination=us-west1-docker.pkg.dev/chat-lewi/random/cloudbuild:cb41ff2b-9103-41d2-b273-99f93e23dafe\n",
      "  - --destination=us-west1-docker.pkg.dev/chat-lewi/random/cloudbuild:local-86cb448a5faba352291d77dd1e770a3ce03a6937\n",
      "  - --destination=us-west1-docker.pkg.dev/chat-lewi/random/cloudbuild:latest\n",
      "  - --dockerfile=Dockerfile\n",
      "  - --cache=true\n",
      "  - --build-arg=BUILD_COMMIT=local-86cb448a5faba352291d77dd1e770a3ce03a6937\n",
      "  - --build-arg=BUILD_ID=cb41ff2b-9103-41d2-b273-99f93e23dafe\n",
      "  - --label=BUILD_ID=cb41ff2b-9103-41d2-b273-99f93e23dafe\n",
      "  - --label=COMMIT_SHA=local-86cb448a5faba352291d77dd1e770a3ce03a6937\n",
      "  name: gcr.io/kaniko-project/executor:latest\n",
      "substitutions:\n",
      "  COMMIT_SHA: local-86cb448a5faba352291d77dd1e770a3ce03a6937\n",
      "tags:\n",
      "- dev\n",
      "timeout: 3600s\n"
     ]
    },
    {
     "name": "stderr",
     "output_type": "stream",
     "text": [
      "Created [https://cloudbuild.googleapis.com/v1/projects/chat-lewi/locations/global/builds/cb41ff2b-9103-41d2-b273-99f93e23dafe].\n",
      "Logs are available at [ https://console.cloud.google.com/cloud-build/builds/cb41ff2b-9103-41d2-b273-99f93e23dafe?project=197678265256 ].\n"
     ]
    }
   ],
   "source": [
    "import subprocess\n",
    "def build_image():\n",
    "    subprocess.check_call([\n",
    "        \"gcloud\", \"builds\", \"submit\", \"--project\", \"chat-lewi\", \"--async\", \"--config\", \"cloudbuild.yaml\",\n",
    "        \"--substitutions=COMMIT_SHA=local-\" + latest_commit,\n",
    "        \"--format=yaml\"\n",
    "    ])\n",
    "\n",
    "build_image()            "
   ]
  }
 ],
 "metadata": {
  "kernelspec": {
   "display_name": ".venv",
   "language": "python",
   "name": "python3"
  },
  "language_info": {
   "codemirror_mode": {
    "name": "ipython",
    "version": 3
   },
   "file_extension": ".py",
   "mimetype": "text/x-python",
   "name": "python",
   "nbconvert_exporter": "python",
   "pygments_lexer": "ipython3",
   "version": "3.11.2"
  },
  "orig_nbformat": 4
 },
 "nbformat": 4,
 "nbformat_minor": 2
}
